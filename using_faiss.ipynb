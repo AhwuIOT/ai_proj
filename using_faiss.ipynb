{
  "nbformat": 4,
  "nbformat_minor": 0,
  "metadata": {
    "colab": {
      "provenance": [],
      "authorship_tag": "ABX9TyNCHawnvrLzN02P8llXryMF",
      "include_colab_link": true
    },
    "kernelspec": {
      "name": "python3",
      "display_name": "Python 3"
    },
    "language_info": {
      "name": "python"
    }
  },
  "cells": [
    {
      "cell_type": "markdown",
      "metadata": {
        "id": "view-in-github",
        "colab_type": "text"
      },
      "source": [
        "<a href=\"https://colab.research.google.com/github/AhwuIOT/ai_proj/blob/main/using_faiss.ipynb\" target=\"_parent\"><img src=\"https://colab.research.google.com/assets/colab-badge.svg\" alt=\"Open In Colab\"/></a>"
      ]
    },
    {
      "cell_type": "code",
      "source": [
        "from sentence_transformers import SentenceTransformer\n",
        "import faiss\n",
        "import numpy as np\n",
        "import fitz  # PyMuPDF\n",
        "\n",
        "model = SentenceTransformer('all-MiniLM-L6-v2')\n",
        "texts = []\n",
        "sources = []\n",
        "index = None\n",
        "\n",
        "def extract_chunks_from_pdf(pdf_path, chunk_size=300):\n",
        "    doc = fitz.open(pdf_path)\n",
        "    full_text = \"\"\n",
        "    for page in doc:\n",
        "        full_text += page.get_text()\n",
        "    doc.close()\n",
        "    return [full_text[i:i+chunk_size].strip() for i in range(0, len(full_text), chunk_size) if full_text[i:i+chunk_size].strip()]\n",
        "\n",
        "def add_pdf_to_faiss(pdf_path):\n",
        "    global index, texts, sources\n",
        "    chunks = extract_chunks_from_pdf(pdf_path)\n",
        "    embeddings = model.encode(chunks).astype('float32')\n",
        "    if index is None:\n",
        "        index = faiss.IndexFlatL2(embeddings.shape[1])\n",
        "    index.add(embeddings)\n",
        "    texts.extend(chunks)\n",
        "    sources.extend([pdf_path] * len(chunks))\n",
        "    return len(chunks)\n",
        "\n",
        "def search(query, k=3):\n",
        "    if index is None or index.ntotal == 0:\n",
        "        return []\n",
        "    query_vec = model.encode([query]).astype('float32')\n",
        "    D, I = index.search(query_vec, k)\n",
        "    return [{\"source\": sources[i], \"content\": texts[i]} for i in I[0]]\n"
      ],
      "metadata": {
        "id": "EHtcfcteVrSS"
      },
      "execution_count": null,
      "outputs": []
    },
    {
      "cell_type": "code",
      "source": [
        "add_pdf_to_faiss(\"/content/genc2021-dac.pdf\")  # 替換為你上傳的檔案名\n",
        "results = search(\"Gemmini\")\n",
        "for r in results:\n",
        "    print(\"📄\", r[\"source\"])\n",
        "    print(\"📝\", r[\"content\"])\n",
        "    print(\"-\" * 50)\n"
      ],
      "metadata": {
        "colab": {
          "base_uri": "https://localhost:8080/"
        },
        "id": "2gl4LRWfV3_G",
        "outputId": "09c8e563-562c-4666-e75b-2f4066c3a98e"
      },
      "execution_count": null,
      "outputs": [
        {
          "output_type": "stream",
          "name": "stdout",
          "text": [
            "📄 /content/genc2021-dac.pdf\n",
            "📝 requirements, Gemmini provides a multi-level programming interface\n",
            "to satisfy users with different requirements. In addition, Gemmini\n",
            "is the ﬁrst infrastructure that provides hardware support for virtual\n",
            "memory without the need for any special driver software, making it\n",
            "signiﬁcantly easier for end-\n",
            "--------------------------------------------------\n",
            "📄 /content/genc2021-dac.pdf\n",
            "📝 requirements, Gemmini provides a multi-level programming interface\n",
            "to satisfy users with different requirements. In addition, Gemmini\n",
            "is the ﬁrst infrastructure that provides hardware support for virtual\n",
            "memory without the need for any special driver software, making it\n",
            "signiﬁcantly easier for end-\n",
            "--------------------------------------------------\n",
            "📄 /content/genc2021-dac.pdf\n",
            "📝 te\n",
            "a complete SoC environment that can boot Linux, directly enabling\n",
            "architects to evaluate subtle trade-offs at the system level.\n",
            "III. GEMMINI GENERATOR\n",
            "Gemmini is an open-source, full-stack generator of DNN acceler-\n",
            "ators, spanning across different hardware architectures, programming\n",
            "interfaces, a\n",
            "--------------------------------------------------\n"
          ]
        }
      ]
    }
  ]
}